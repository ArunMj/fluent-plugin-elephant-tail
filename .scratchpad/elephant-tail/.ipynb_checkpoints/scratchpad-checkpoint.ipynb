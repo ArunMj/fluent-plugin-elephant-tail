{
 "cells": [
  {
   "cell_type": "code",
   "execution_count": 3,
   "metadata": {
    "collapsed": false
   },
   "outputs": [
    {
     "data": {
      "text/plain": [
       "true"
      ]
     },
     "execution_count": 3,
     "metadata": {},
     "output_type": "execute_result"
    }
   ],
   "source": [
    "require 'webhdfs'"
   ]
  },
  {
   "cell_type": "code",
   "execution_count": 39,
   "metadata": {
    "collapsed": false
   },
   "outputs": [
    {
     "data": {
      "text/plain": [
       "#<WebHDFS::Client:0x00000003522198 @host=\"127.0.0.1\", @port=50070, @username=nil, @doas=nil, @proxy_address=nil, @proxy_port=nil, @retry_known_errors=false, @retry_times=1, @retry_interval=1, @httpfs_mode=false, @ssl=false, @ssl_ca_file=nil, @ssl_verify_mode=nil, @ssl_cert=nil, @ssl_key=nil, @ssl_version=nil, @kerberos=false, @kerberos_keytab=nil, @http_headers={}>"
      ]
     },
     "execution_count": 39,
     "metadata": {},
     "output_type": "execute_result"
    }
   ],
   "source": [
    "c = WebHDFS::Client.new(\"127.0.0.1\",50070)"
   ]
  },
  {
   "cell_type": "code",
   "execution_count": 40,
   "metadata": {
    "collapsed": false
   },
   "outputs": [
    {
     "data": {
      "text/plain": [
       "{\"accessTime\"=>1475487636187, \"blockSize\"=>134217728, \"childrenNum\"=>0, \"fileId\"=>16391, \"group\"=>\"supergroup\", \"length\"=>36672, \"modificationTime\"=>1475473635233, \"owner\"=>\"flytxt\", \"pathSuffix\"=>\"\", \"permission\"=>\"644\", \"replication\"=>1, \"storagePolicy\"=>0, \"type\"=>\"FILE\"}"
      ]
     },
     "execution_count": 40,
     "metadata": {},
     "output_type": "execute_result"
    }
   ],
   "source": [
    "c.stat(\"/test.jhist\")"
   ]
  },
  {
   "cell_type": "code",
   "execution_count": 41,
   "metadata": {
    "collapsed": false
   },
   "outputs": [
    {
     "name": "stdout",
     "output_type": "stream",
     "text": [
      "{\"RemoteException\":{\"exception\":\"AccessControlException\",\"javaClassName\":\"org.apache.hadoop.security.AccessControlException\",\"message\":\"Permission denied: user=dr.who, access=READ_EXECUTE, inode=\\\"/tmp\\\":flytxt:supergroup:drwx------\"}}"
     ]
    }
   ],
   "source": [
    "begin\n",
    "for i in c.list(\"/tmp\")\n",
    "puts i\n",
    "puts\n",
    "end\n",
    "rescue => e\n",
    "  print e\n",
    "end"
   ]
  },
  {
   "cell_type": "code",
   "execution_count": 10,
   "metadata": {
    "collapsed": false
   },
   "outputs": [
    {
     "data": {
      "text/plain": [
       "1"
      ]
     },
     "execution_count": 10,
     "metadata": {},
     "output_type": "execute_result"
    }
   ],
   "source": [
    "transported_files = 1"
   ]
  },
  {
   "cell_type": "code",
   "execution_count": 80,
   "metadata": {
    "collapsed": false
   },
   "outputs": [
    {
     "ename": "ArgumentError",
     "evalue": "wrong number of arguments (given 1, expected 2)",
     "output_type": "error",
     "traceback": [
      "\u001b[31mArgumentError\u001b[0m: wrong number of arguments (given 1, expected 2)",
      "\u001b[37m<main>:7:in `initialize'\u001b[0m",
      "\u001b[37m<main>:40:in `new'\u001b[0m",
      "\u001b[37m<main>:40:in `<main>'\u001b[0m",
      "\u001b[37m/var/lib/gems/2.3.0/gems/iruby-0.2.9/lib/iruby/backend.rb:44:in `eval'\u001b[0m",
      "\u001b[37m/var/lib/gems/2.3.0/gems/iruby-0.2.9/lib/iruby/backend.rb:44:in `eval'\u001b[0m",
      "\u001b[37m/var/lib/gems/2.3.0/gems/iruby-0.2.9/lib/iruby/backend.rb:12:in `eval'\u001b[0m",
      "\u001b[37m/var/lib/gems/2.3.0/gems/iruby-0.2.9/lib/iruby/kernel.rb:87:in `execute_request'\u001b[0m",
      "\u001b[37m/var/lib/gems/2.3.0/gems/iruby-0.2.9/lib/iruby/kernel.rb:47:in `dispatch'\u001b[0m",
      "\u001b[37m/var/lib/gems/2.3.0/gems/iruby-0.2.9/lib/iruby/kernel.rb:37:in `run'\u001b[0m",
      "\u001b[37m/var/lib/gems/2.3.0/gems/iruby-0.2.9/lib/iruby/command.rb:70:in `run_kernel'\u001b[0m",
      "\u001b[37m/var/lib/gems/2.3.0/gems/iruby-0.2.9/lib/iruby/command.rb:34:in `run'\u001b[0m",
      "\u001b[37m/var/lib/gems/2.3.0/gems/iruby-0.2.9/bin/iruby:5:in `<top (required)>'\u001b[0m",
      "\u001b[37m/usr/local/bin/iruby:22:in `load'\u001b[0m",
      "\u001b[37m/usr/local/bin/iruby:22:in `<main>'\u001b[0m"
     ]
    }
   ],
   "source": [
    "path = \"/\"\n",
    "flist = []\n",
    "\n",
    "\n",
    "\n",
    "class DirWatcher\n",
    "  \n",
    "  def initialize(webhdfs_client,onevent)\n",
    "    @wh_client = webhdfs_client\n",
    "    @file_list = []\n",
    "    onevent\n",
    "  end\n",
    "  \n",
    "  def watch_directory(dir_path)\n",
    "    dir_path = dir_path.strip\n",
    "    dir_path = dir_path[0..-2] if dir_path[-1] == '/'\n",
    "    puts \"entering  #{dir_path}\"\n",
    "    begin\n",
    "      for item in @wh_client.list(dir_path)\n",
    "        abs_path_of_item = [dir_path,item['pathSuffix']].join('/')\n",
    "        if item[\"type\"] == \"FILE\"\n",
    "          #item.select {|k,v| (:fileId,:accessTime,:length,:modificationTime).include?(k) }\n",
    "          file_descr = {abs_path_of_item => item.select {|k,v| [\"fileId\",\"accessTime\",\"length\",\"modificationTime\"].include?(k) }}\n",
    "          @file_list <<  file_descr\n",
    "        else\n",
    "          watch_directory(abs_path_of_item)\n",
    "        end\n",
    "      end\n",
    "    rescue => e\n",
    "      puts \"error\",e\n",
    "    end\n",
    "    @file_list\n",
    "  end\n",
    "end\n",
    "\n",
    "def x\n",
    "  puts \"\",\"\",\"on event \",\".................\",\"\"\n",
    "end\n",
    "\n",
    "  \n",
    "dw = DirWatcher.new(c,method(:x))\n",
    "l=dw.watch_directory(path)\n"
   ]
  },
  {
   "cell_type": "code",
   "execution_count": 77,
   "metadata": {
    "collapsed": false
   },
   "outputs": [
    {
     "data": {
      "text/plain": [
       "#<Method: Object#x>"
      ]
     },
     "execution_count": 77,
     "metadata": {},
     "output_type": "execute_result"
    }
   ],
   "source": [
    "method(:x)"
   ]
  },
  {
   "cell_type": "code",
   "execution_count": 54,
   "metadata": {
    "collapsed": false
   },
   "outputs": [
    {
     "data": {
      "text/plain": [
       "{:a=>1, :b=>2}"
      ]
     },
     "execution_count": 54,
     "metadata": {},
     "output_type": "execute_result"
    }
   ],
   "source": [
    "{ a: 1, b: 2, c: 3, d: 4 }."
   ]
  },
  {
   "cell_type": "code",
   "execution_count": null,
   "metadata": {
    "collapsed": true
   },
   "outputs": [],
   "source": []
  }
 ],
 "metadata": {
  "kernelspec": {
   "display_name": "Ruby 2.3.1",
   "language": "ruby",
   "name": "ruby"
  },
  "language_info": {
   "file_extension": ".rb",
   "mimetype": "application/x-ruby",
   "name": "ruby",
   "version": "2.3.1"
  }
 },
 "nbformat": 4,
 "nbformat_minor": 0
}
