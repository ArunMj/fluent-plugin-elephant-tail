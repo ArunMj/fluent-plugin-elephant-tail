{
 "cells": [
  {
   "cell_type": "code",
   "execution_count": 28,
   "metadata": {
    "collapsed": false
   },
   "outputs": [
    {
     "data": {
      "text/plain": [
       ":abs_path"
      ]
     },
     "execution_count": 28,
     "metadata": {},
     "output_type": "execute_result"
    }
   ],
   "source": [
    "require 'webhdfs'\n",
    "\n",
    "class Tracker\n",
    "  def initialize(file_path)\n",
    "    @transported_list = {}\n",
    "    @tracker_file = file_path\n",
    "    load_file\n",
    "  end\n",
    "  \n",
    "  def fileAlreadyTransported?(file_discr)\n",
    "    @transported_list.key? file_discr.abs_path\n",
    "  end\n",
    "  \n",
    "  def update_list(collection)\n",
    "      puts \"    << adding  #{collection.abs_path} in tracked list\" \n",
    "      @transported_list.store(collection.abs_path,collection.to_h)\n",
    "  end\n",
    "  \n",
    "  def clear_list\n",
    "    @transported_list.clear\n",
    "  end\n",
    "  \n",
    "  def list\n",
    "    @transported_list\n",
    "  end\n",
    "  \n",
    "  def save_to_file\n",
    "    begin \n",
    "      File.open(@tracker_file,\"w\") {|f| f << @transported_list.to_json}\n",
    "      puts \"saved tracker list to #{@tracker_file}\"\n",
    "    rescue Errno::ENOENT => e\n",
    "      print \"inavlid tracker file path ..\", e,\"\\n\"\n",
    "    end\n",
    "  end\n",
    "  \n",
    "  def load_file\n",
    "    begin\n",
    "     @transported_list = JSON.parse(File.read(@tracker_file))\n",
    "      puts \"loaded tracker file  #{@tracker_file}\"\n",
    "    rescue Errno::ENOENT => e\n",
    "      print \"inavlid tracker file path ..\", e,\"\\n\"\n",
    "    rescue JSON::ParserError => e\n",
    "      print \"invalid tracker file  #{@tracker_file}. . \", e,\"\\n\"\n",
    "    end\n",
    "  end\n",
    "end\n",
    "\n",
    "class FileDesc < Hash\n",
    "  def initialize(abs_path,discr)\n",
    "    super()\n",
    "    @abs_path = abs_path\n",
    "    discr.each {|k,v|\n",
    "      self[k] =v if [\"fileId\",\"accessTime\",\"length\",\"modificationTime\"].include?(k) \n",
    "      }\n",
    "  end\n",
    "  \n",
    "  def abs_path\n",
    "    @abs_path\n",
    "  end\n",
    "  \n",
    "end"
   ]
  },
  {
   "cell_type": "code",
   "execution_count": 2,
   "metadata": {
    "collapsed": false
   },
   "outputs": [
    {
     "data": {
      "text/plain": [
       ":watch_directory"
      ]
     },
     "execution_count": 2,
     "metadata": {},
     "output_type": "execute_result"
    }
   ],
   "source": [
    "require 'webhdfs'\n",
    "require 'json'\n",
    "client = WebHDFS::Client.new(\"127.0.0.1\",50070)\n",
    "path = \"/\"\n",
    "\n",
    "class DirWatcher\n",
    "  \n",
    "  def initialize(webhdfs_client,tracker,watchFinishedEvent=nil,filediscoveryEvent=nil)\n",
    "    @wh_client = webhdfs_client\n",
    "    @tracker = tracker\n",
    "    @file_discovery_Event = filediscoveryEvent\n",
    "    @watch_Finished_Event = watchFinishedEvent\n",
    "    \n",
    "    @files_found_list = []\n",
    "  end\n",
    "  \n",
    "  def start_watch(dir_path)\n",
    "    @files_found_list = []\n",
    "    dir_path = dir_path.strip\n",
    "    dir_path = dir_path[0..-2] if dir_path[-1] == '/'\n",
    "    watch_directory(dir_path)\n",
    "    @watch_Finished_Event.call( @files_found_list,@tracker) if not @watch_Finished_Event.nil?\n",
    "  end\n",
    "  \n",
    "  private\n",
    "  def watch_directory(dir_path)\n",
    "    puts \"entering  '#{dir_path}'\"\n",
    "    begin\n",
    "      for item_desc in @wh_client.list(dir_path)\n",
    "        abs_path_of_item = [dir_path,item_desc['pathSuffix']].join('/')\n",
    "        if item_desc[\"type\"] == \"FILE\"\n",
    "          file_descr = FileDesc.new abs_path_of_item,item_desc\n",
    "          \n",
    "           if not @tracker.fileAlreadyTransported? file_descr\n",
    "             @file_discovery_Event.call(file_descr,@tracker) if not @file_discovery_Event.nil?\n",
    "             @files_found_list << file_descr\n",
    "           else\n",
    "             puts \"   skipping already transported #{file_descr.abs_path}\"\n",
    "           end\n",
    "          \n",
    "        else\n",
    "          watch_directory(abs_path_of_item)\n",
    "        end\n",
    "      end\n",
    "     rescue WebHDFS::IOError => e\n",
    "       puts e\n",
    "    end\n",
    "  end\n",
    "  \n",
    "end"
   ]
  },
  {
   "cell_type": "code",
   "execution_count": 26,
   "metadata": {
    "collapsed": false
   },
   "outputs": [
    {
     "name": "stdout",
     "output_type": "stream",
     "text": [
      "inavlid tracker file path ..No such file or directory @ rb_sysopen - j/home/flytxt/Desktop/tracker.json\n"
     ]
    },
    {
     "data": {
      "text/plain": [
       "#<DirWatcher:0x000000028a47e0 @wh_client=#<WebHDFS::Client:0x00000002892ba8 @host=\"127.0.0.1\", @port=50070, @username=nil, @doas=nil, @proxy_address=nil, @proxy_port=nil, @retry_known_errors=false, @retry_times=1, @retry_interval=1, @httpfs_mode=false, @ssl=false, @ssl_ca_file=nil, @ssl_verify_mode=nil, @ssl_cert=nil, @ssl_key=nil, @ssl_version=nil, @kerberos=false, @kerberos_keytab=nil, @http_headers={}>, @tracker=#<Tracker:0x000000028aaf78 @transported_list={}, @tracker_file=\"j/home/flytxt/Desktop/tracker.json\">, @file_discovery_Event=#<Method: Object#onFileFound>, @watch_Finished_Event=#<Method: Object#onWatchFinished>, @files_found_list=[]>"
      ]
     },
     "execution_count": 26,
     "metadata": {},
     "output_type": "execute_result"
    }
   ],
   "source": [
    "def onFileFound(file_descr,tracker)\n",
    "  puts \"   ..........new File  =   #{file_descr.abs_path} ..\"\n",
    "  #tracker.update_list(file_descr)\n",
    "end\n",
    "\n",
    "def onWatchFinished(file_list,tracker)\n",
    "  file_list.each {|x|  tracker.update_list(x)}\n",
    "  tracker.save_to_file\n",
    "end\n",
    "\n",
    "tracker = Tracker.new \"j/home/flytxt/Desktop/tracker.json\"\n",
    "dw = DirWatcher.new(client,tracker,method(:onWatchFinished),method(:onFileFound))"
   ]
  },
  {
   "cell_type": "code",
   "execution_count": 29,
   "metadata": {
    "collapsed": false
   },
   "outputs": [
    {
     "name": "stdout",
     "output_type": "stream",
     "text": [
      "entering  ''\n",
      "entering  '/hist'\n",
      "entering  '/hist/a'\n",
      "   skipping already transported /hist/a/sample1\n",
      "entering  '/hist/b'\n",
      "entering  '/hist/b/b1'\n",
      "   skipping already transported /hist/b/b1/samplbb1\n",
      "   skipping already transported /hist/b/sample1\n",
      "   skipping already transported /hist/b/sample2\n",
      "   skipping already transported /src.rb\n",
      "   skipping already transported /test.jhist\n",
      "entering  '/tmp'\n",
      "{\"RemoteException\":{\"exception\":\"AccessControlException\",\"javaClassName\":\"org.apache.hadoop.security.AccessControlException\",\"message\":\"Permission denied: user=dr.who, access=READ_EXECUTE, inode=\\\"/tmp\\\":flytxt:supergroup:drwx------\"}}\n"
     ]
    },
    {
     "ename": "Errno::ENOENT",
     "evalue": "No such file or directory @ rb_sysopen - j/home/flytxt/Desktop/tracker.json",
     "output_type": "error",
     "traceback": [
      "\u001b[31mErrno::ENOENT\u001b[0m: No such file or directory @ rb_sysopen - j/home/flytxt/Desktop/tracker.json",
      "\u001b[37m<main>:28:in `initialize'\u001b[0m",
      "\u001b[37m<main>:28:in `open'\u001b[0m",
      "\u001b[37m<main>:28:in `save_to_file'\u001b[0m",
      "\u001b[37m<main>:7:in `onWatchFinished'\u001b[0m",
      "\u001b[37m<main>:21:in `call'\u001b[0m",
      "\u001b[37m<main>:21:in `start_watch'\u001b[0m",
      "\u001b[37m<main>:in `<main>'\u001b[0m",
      "\u001b[37m/var/lib/gems/2.3.0/gems/iruby-0.2.9/lib/iruby/backend.rb:44:in `eval'\u001b[0m",
      "\u001b[37m/var/lib/gems/2.3.0/gems/iruby-0.2.9/lib/iruby/backend.rb:44:in `eval'\u001b[0m",
      "\u001b[37m/var/lib/gems/2.3.0/gems/iruby-0.2.9/lib/iruby/backend.rb:12:in `eval'\u001b[0m",
      "\u001b[37m/var/lib/gems/2.3.0/gems/iruby-0.2.9/lib/iruby/kernel.rb:87:in `execute_request'\u001b[0m",
      "\u001b[37m/var/lib/gems/2.3.0/gems/iruby-0.2.9/lib/iruby/kernel.rb:47:in `dispatch'\u001b[0m",
      "\u001b[37m/var/lib/gems/2.3.0/gems/iruby-0.2.9/lib/iruby/kernel.rb:37:in `run'\u001b[0m",
      "\u001b[37m/var/lib/gems/2.3.0/gems/iruby-0.2.9/lib/iruby/command.rb:70:in `run_kernel'\u001b[0m",
      "\u001b[37m/var/lib/gems/2.3.0/gems/iruby-0.2.9/lib/iruby/command.rb:34:in `run'\u001b[0m",
      "\u001b[37m/var/lib/gems/2.3.0/gems/iruby-0.2.9/bin/iruby:5:in `<top (required)>'\u001b[0m",
      "\u001b[37m/usr/local/bin/iruby:22:in `load'\u001b[0m",
      "\u001b[37m/usr/local/bin/iruby:22:in `<main>'\u001b[0m"
     ]
    }
   ],
   "source": [
    "l=dw.start_watch(path)"
   ]
  },
  {
   "cell_type": "code",
   "execution_count": 5,
   "metadata": {
    "collapsed": false
   },
   "outputs": [
    {
     "data": {
      "text/plain": [
       "{\"/hist/a/sample1\"=>{\"accessTime\"=>1475490281414, \"fileId\"=>16396, \"length\"=>22, \"modificationTime\"=>1475490281520}, \"/hist/b/b1/samplbb1\"=>{\"accessTime\"=>1475491460709, \"fileId\"=>16400, \"length\"=>27, \"modificationTime\"=>1475491460804}, \"/hist/b/sample1\"=>{\"accessTime\"=>1475490310258, \"fileId\"=>16397, \"length\"=>22, \"modificationTime\"=>1475490310371}, \"/hist/b/sample2\"=>{\"accessTime\"=>1475490374968, \"fileId\"=>16398, \"length\"=>24, \"modificationTime\"=>1475490375076}, \"/src.rb\"=>{\"accessTime\"=>1475477698327, \"fileId\"=>16392, \"length\"=>2340, \"modificationTime\"=>1475477698434}, \"/test.jhist\"=>{\"accessTime\"=>1475487636187, \"fileId\"=>16391, \"length\"=>36672, \"modificationTime\"=>1475473635233}}"
      ]
     },
     "execution_count": 5,
     "metadata": {},
     "output_type": "execute_result"
    }
   ],
   "source": [
    "tracker.list"
   ]
  }
 ],
 "metadata": {
  "kernelspec": {
   "display_name": "Ruby 2.3.1",
   "language": "ruby",
   "name": "ruby"
  },
  "language_info": {
   "file_extension": ".rb",
   "mimetype": "application/x-ruby",
   "name": "ruby",
   "version": "2.3.1"
  }
 },
 "nbformat": 4,
 "nbformat_minor": 0
}
